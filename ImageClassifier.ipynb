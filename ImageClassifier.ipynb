{
 "cells": [
  {
   "cell_type": "code",
   "execution_count": null,
   "metadata": {},
   "outputs": [],
   "source": [
    "import torch\n",
    "import torchvision\n",
    "import torchvision.transforms as transforms\n",
    "import time\n",
    "import seaborn as sb\n",
    "\n",
    "transform = transforms.Compose(\n",
    "    [transforms.ToTensor(),\n",
    "     transforms.Normalize((0.5, 0.5, 0.5), (0.5, 0.5, 0.5))])\n",
    "\n",
    "batch_size = 4\n",
    "epochs = 5\n",
    "sb.set_style('darkgrid')\n",
    "\n",
    "trainset = torchvision.datasets.CIFAR10(root='./data', train=True, download=True, transform=transform)\n",
    "trainloader = torch.utils.data.DataLoader(trainset, batch_size=batch_size, shuffle=True, num_workers=2)\n",
    "\n",
    "testset = torchvision.datasets.CIFAR10(root='./data', train=False, download=True, transform=transform)\n",
    "testloader = torch.utils.data.DataLoader(testset, batch_size=batch_size, shuffle=False, num_workers=2)\n",
    "\n",
    "classes = ('plane', 'car', 'bird', 'cat',\n",
    "           'deer', 'dog', 'frog', 'horse', 'ship', 'truck')\n",
    "\n",
    "print(\"Train dataset :\", len(testloader))\n",
    "\n",
    "print(\"Test dataset :\", len(testloader))"
   ]
  },
  {
   "cell_type": "code",
   "execution_count": null,
   "metadata": {},
   "outputs": [],
   "source": [
    "import matplotlib.pyplot as plt\n",
    "import numpy as np\n",
    "\n",
    "# functions to show an image\n",
    "def imshow(img):\n",
    "    img = img / 2 + 0.5     # unnormalize\n",
    "    npimg = img.numpy()\n",
    "    plt.imshow(np.transpose(npimg, (1, 2, 0)))\n",
    "    plt.show()\n",
    "\n",
    "\n",
    "# get some random training images\n",
    "dataiter = iter(trainloader)\n",
    "images, labels = dataiter.next()\n",
    "\n",
    "# show images\n",
    "imshow(torchvision.utils.make_grid(images))\n",
    "# print labels ---Number = batch_size\n",
    "print(' '.join('%5s' % classes[labels[j]] for j in range(batch_size)))"
   ]
  },
  {
   "cell_type": "code",
   "execution_count": null,
   "metadata": {},
   "outputs": [],
   "source": [
    "import torch.nn as nn\n",
    "import torch.nn.functional as F\n",
    "from torchsummary import summary\n",
    "input_shape = (3, 32, 32)\n",
    "\n",
    "class Net(nn.Module):\n",
    "    def __init__(self):\n",
    "        super().__init__()\n",
    "        self.conv1 = nn.Conv2d(3, 6, 5)\n",
    "        self.pool = nn.MaxPool2d(2, 2)\n",
    "        self.conv2 = nn.Conv2d(6, 16, 5)\n",
    "        self.fc1 = nn.Linear(16 * 5 * 5, 120)\n",
    "        self.fc2 = nn.Linear(120, 84)\n",
    "        self.fc3 = nn.Linear(84, 10)\n",
    "\n",
    "    def forward(self, x):\n",
    "        x = self.pool(F.relu(self.conv1(x)))\n",
    "        x = self.pool(F.relu(self.conv2(x)))\n",
    "        x = torch.flatten(x, 1) # flatten all dimensions except batch\n",
    "        x = F.relu(self.fc1(x))\n",
    "        x = F.relu(self.fc2(x))\n",
    "        x = self.fc3(x)\n",
    "        return x\n",
    "\n",
    "net = Net()\n",
    "#Display details about the 2 Layered neural system\n",
    "summary(net, input_shape)"
   ]
  },
  {
   "cell_type": "code",
   "execution_count": null,
   "metadata": {},
   "outputs": [],
   "source": [
    "#My contribution---- 4 layered NN\n",
    "\n",
    "class Net4CL(nn.Module):\n",
    "  def __init__(self):\n",
    "    super(Net4CL, self).__init__()\n",
    "    self.conv1 = nn.Conv2d(3, 16, 3, padding=1)\n",
    "    self.conv2 = nn.Conv2d(16, 32, 3, padding=1)\n",
    "    self.conv3 = nn.Conv2d(32, 64, 3, padding=1)\n",
    "    self.conv4 = nn.Conv2d(64, 128, 3, padding=1)\n",
    "    self.pool = nn.MaxPool2d(2, 2)\n",
    "    self.dropout = nn.Dropout(0.1)\n",
    "    self.fc1 = nn.Linear(128 * 2 * 2, 512)\n",
    "    self.fc2 = nn.Linear(512, 256)\n",
    "    self.fc3 = nn.Linear(256, 10)\n",
    "    \n",
    "  def forward(self, x):\n",
    "    x = self.pool(F.relu(self.conv1(x)))\n",
    "    x = self.pool(F.relu(self.conv2(x)))\n",
    "    x = self.pool(F.relu(self.conv3(x)))\n",
    "    x = self.pool(F.relu(self.conv4(x)))\n",
    "    x = x.view(-1, 128 * 2 * 2)\n",
    "    x = self.dropout(x)\n",
    "    x = F.relu(self.fc1(x))\n",
    "    x = self.dropout(x)\n",
    "    x = F.relu(self.fc2(x))\n",
    "    x = self.fc3(x)\n",
    "    return x\n",
    "\n",
    "net4cl = Net4CL()\n",
    "summary(net4cl, input_shape)"
   ]
  },
  {
   "cell_type": "code",
   "execution_count": null,
   "metadata": {},
   "outputs": [],
   "source": [
    "def graphModel(model, trainloader, optimizer, criterion):\n",
    "  lossList = []\n",
    "  print(\"/*Training...this process might take several minutes to complete depending on the train/test size........do not execute next cell until finished\")\n",
    "  for epoch in range(epochs):\n",
    "    training_loss = 0.0\n",
    "    for i, data in enumerate(trainloader, 0):\n",
    "      inputs, labels = data\n",
    "      optimizer.zero_grad()\n",
    "      outputs = model(inputs)\n",
    "      loss = criterion(outputs, labels)\n",
    "      loss.backward()\n",
    "      optimizer.step()\n",
    "\n",
    "      #print statistics\n",
    "      training_loss += loss.item()\n",
    "      if i % 5000 == 4999: # print every 5000 mini-batches\n",
    "        print('[%d, %5d] loss: %.3f' %(epoch + 1, i + 1, training_loss / 5000))\n",
    "        training_loss = 0.0\n",
    "    \n",
    "    # calculate average losses\n",
    "    training_loss = training_loss/len(trainloader)\n",
    "    lossList.append(training_loss)\n",
    "\n",
    "  print(\"Training Finished.\")\n",
    "  return lossList\n",
    "\n",
    "def modelLayer(model):\n",
    "  if model == \"net2cl\": return Net()\n",
    "  elif model == \"net4cl\": return Net4CL()\n",
    "\n",
    "def plot_loss_per_epoch(history):\n",
    "  plt.plot(np.arange(0, epochs), history, label='training_loss')\n",
    "  plt.xlabel('Epochs')\n",
    "  plt.ylabel('Loss')\n",
    "  plt.legend(loc='center right')\n",
    "  plt.show()"
   ]
  },
  {
   "cell_type": "code",
   "execution_count": null,
   "metadata": {},
   "outputs": [],
   "source": [
    "import torch.optim as optim\n",
    "\n",
    "#Cross-Entropy Loss\n",
    "criterion = nn.CrossEntropyLoss()\n",
    "\n",
    "net = \"net2cl\"  ###---------------------------- 'net2cl' or 'net4cl' \n",
    "model = modelLayer(net)\n",
    "optimizer = optim.SGD(model.parameters(), lr=0.001, momentum=0.9)\n",
    "lossList= graphModel(model, trainloader, optimizer, criterion)\n",
    "plot_loss_per_epoch(lossList)"
   ]
  },
  {
   "cell_type": "code",
   "execution_count": null,
   "metadata": {},
   "outputs": [],
   "source": [
    "dataiter = iter(testloader)\n",
    "images, labels = dataiter.next()\n",
    "\n",
    "# print images\n",
    "imshow(torchvision.utils.make_grid(images))\n",
    "print('GroundTruth: ', ' '.join('%5s' % classes[labels[j]] for j in range(batch_size)))"
   ]
  },
  {
   "cell_type": "code",
   "execution_count": null,
   "metadata": {},
   "outputs": [],
   "source": [
    "outputs = model(images)\n",
    "_, predicted = torch.max(outputs, 1)\n",
    "print('Predicted: ', ' '.join('%5s' %classes[predicted[j]] for j in range(batch_size)))"
   ]
  },
  {
   "cell_type": "code",
   "execution_count": null,
   "metadata": {},
   "outputs": [],
   "source": [
    "def accuracy(net, dataloader):\n",
    "    correct = 0\n",
    "    total = 0\n",
    "    with torch.no_grad():\n",
    "        for data in testloader:\n",
    "            images, labels = data\n",
    "            outputs = net(images)\n",
    "            _, predicted = torch.max(outputs.data, 1)\n",
    "            total += labels.size(0)\n",
    "            correct += (predicted == labels).sum().item()\n",
    "    accuracy = (100*correct / total)\n",
    "    print('Accuracy of the model on the test images: %d %%' % (100 * correct / total))\n",
    "    return accuracy "
   ]
  },
  {
   "cell_type": "code",
   "execution_count": null,
   "metadata": {},
   "outputs": [],
   "source": [
    "# total accuracy\n",
    "nn2accuracy = []\n",
    "#appending accuracy of 2 layered NN \n",
    "nn2accuracy.append(accuracy(model, testloader))"
   ]
  },
  {
   "cell_type": "code",
   "execution_count": null,
   "metadata": {},
   "outputs": [],
   "source": [
    "# SGD optimizer & Cross Entropy Loss\n",
    "net = \"net4cl\"  ###---------------------------- 'net2cl' or 'net4cl' \n",
    "model = modelLayer(net)\n",
    "optimizer = optim.SGD(model.parameters(), lr=0.001, momentum=0.9)\n",
    "lossList= graphModel(model, trainloader, optimizer, criterion)\n",
    "plot_loss_per_epoch(lossList)"
   ]
  },
  {
   "cell_type": "code",
   "execution_count": null,
   "metadata": {},
   "outputs": [],
   "source": [
    "#appending accuracy of 4 layered NN \n",
    "nn2accuracy.append(accuracy(model, testloader))"
   ]
  },
  {
   "cell_type": "code",
   "execution_count": null,
   "metadata": {},
   "outputs": [],
   "source": [
    "def plot_classes_accuracy(classes, accuracy):\n",
    "  plt.bar(classes, accuracy)\n",
    "  plt.xlabel(\"Class\")\n",
    "  plt.ylabel(\"Accuracy\")\n",
    "  plt.show()\n",
    "\n",
    "#Comparing performance of 2 layered and 4 layered CNN\n",
    "nnList = ['Net2CL','Net4CL']\n",
    "plot_classes_accuracy(nnList, nn2accuracy)"
   ]
  }
 ],
 "metadata": {
  "language_info": {
   "codemirror_mode": {
    "name": "ipython",
    "version": 3
   },
   "file_extension": ".py",
   "mimetype": "text/x-python",
   "name": "python",
   "nbconvert_exporter": "python",
   "pygments_lexer": "ipython3",
   "version": 3
  },
  "orig_nbformat": 2
 },
 "nbformat": 4,
 "nbformat_minor": 2
}
